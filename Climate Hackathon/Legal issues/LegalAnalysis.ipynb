{
 "cells": [
  {
   "cell_type": "code",
   "execution_count": 1,
   "metadata": {},
   "outputs": [
    {
     "name": "stdout",
     "output_type": "stream",
     "text": [
      "Collecting juriscraper\n",
      "  Using cached juriscraper-2.6.51.tar.gz (293 kB)\n",
      "  Installing build dependencies ... \u001b[?25ldone\n",
      "\u001b[?25h  Getting requirements to build wheel ... \u001b[?25ldone\n",
      "\u001b[?25h  Preparing metadata (pyproject.toml) ... \u001b[?25ldone\n",
      "\u001b[?25hCollecting argparse (from juriscraper)\n",
      "  Using cached argparse-1.4.0-py2.py3-none-any.whl.metadata (2.8 kB)\n",
      "Collecting charset-normalizer>=3.1.0 (from juriscraper)\n",
      "  Downloading charset_normalizer-3.4.1-cp312-cp312-macosx_10_13_universal2.whl.metadata (35 kB)\n",
      "Requirement already satisfied: certifi>=2017.4.17 in /opt/anaconda3/lib/python3.12/site-packages (from juriscraper) (2024.7.4)\n",
      "Requirement already satisfied: chardet>=3.0.2 in /opt/anaconda3/lib/python3.12/site-packages (from juriscraper) (4.0.0)\n",
      "Requirement already satisfied: cssselect in /opt/anaconda3/lib/python3.12/site-packages (from juriscraper) (1.2.0)\n",
      "Collecting dateparser>=1.2.0 (from juriscraper)\n",
      "  Using cached dateparser-1.2.0-py2.py3-none-any.whl.metadata (28 kB)\n",
      "Collecting feedparser>=6.0.11 (from juriscraper)\n",
      "  Using cached feedparser-6.0.11-py3-none-any.whl.metadata (2.4 kB)\n",
      "Collecting geonamescache>=2.0.0 (from juriscraper)\n",
      "  Using cached geonamescache-2.0.0-py3-none-any.whl.metadata (3.2 kB)\n",
      "Requirement already satisfied: html5lib in /opt/anaconda3/lib/python3.12/site-packages (from juriscraper) (1.1)\n",
      "Requirement already satisfied: lxml>=5.2 in /opt/anaconda3/lib/python3.12/site-packages (from juriscraper) (5.2.1)\n",
      "Collecting nh3 (from juriscraper)\n",
      "  Using cached nh3-0.2.20-cp38-abi3-macosx_10_12_x86_64.macosx_11_0_arm64.macosx_10_12_universal2.whl.metadata (2.0 kB)\n",
      "Requirement already satisfied: python-dateutil>=2.8.2 in /opt/anaconda3/lib/python3.12/site-packages (from juriscraper) (2.9.0.post0)\n",
      "Requirement already satisfied: requests>=2.20.0 in /opt/anaconda3/lib/python3.12/site-packages (from juriscraper) (2.32.2)\n",
      "Collecting selenium>=4.9.1 (from juriscraper)\n",
      "  Using cached selenium-4.27.1-py3-none-any.whl.metadata (7.1 kB)\n",
      "Requirement already satisfied: tldextract in /opt/anaconda3/lib/python3.12/site-packages (from juriscraper) (3.2.0)\n",
      "Requirement already satisfied: pytz in /opt/anaconda3/lib/python3.12/site-packages (from dateparser>=1.2.0->juriscraper) (2024.1)\n",
      "Requirement already satisfied: regex!=2019.02.19,!=2021.8.27 in /opt/anaconda3/lib/python3.12/site-packages (from dateparser>=1.2.0->juriscraper) (2023.10.3)\n",
      "Collecting tzlocal (from dateparser>=1.2.0->juriscraper)\n",
      "  Using cached tzlocal-5.2-py3-none-any.whl.metadata (7.8 kB)\n",
      "Collecting sgmllib3k (from feedparser>=6.0.11->juriscraper)\n",
      "  Using cached sgmllib3k-1.0.0.tar.gz (5.8 kB)\n",
      "  Preparing metadata (setup.py) ... \u001b[?25ldone\n",
      "\u001b[?25hRequirement already satisfied: six>=1.5 in /opt/anaconda3/lib/python3.12/site-packages (from python-dateutil>=2.8.2->juriscraper) (1.16.0)\n",
      "Requirement already satisfied: idna<4,>=2.5 in /opt/anaconda3/lib/python3.12/site-packages (from requests>=2.20.0->juriscraper) (3.7)\n",
      "Requirement already satisfied: urllib3<3,>=1.21.1 in /opt/anaconda3/lib/python3.12/site-packages (from requests>=2.20.0->juriscraper) (2.2.2)\n",
      "Collecting trio~=0.17 (from selenium>=4.9.1->juriscraper)\n",
      "  Using cached trio-0.28.0-py3-none-any.whl.metadata (8.5 kB)\n",
      "Collecting trio-websocket~=0.9 (from selenium>=4.9.1->juriscraper)\n",
      "  Using cached trio_websocket-0.11.1-py3-none-any.whl.metadata (4.7 kB)\n",
      "Requirement already satisfied: typing_extensions~=4.9 in /opt/anaconda3/lib/python3.12/site-packages (from selenium>=4.9.1->juriscraper) (4.11.0)\n",
      "Requirement already satisfied: websocket-client~=1.8 in /opt/anaconda3/lib/python3.12/site-packages (from selenium>=4.9.1->juriscraper) (1.8.0)\n",
      "Requirement already satisfied: webencodings in /opt/anaconda3/lib/python3.12/site-packages (from html5lib->juriscraper) (0.5.1)\n",
      "Requirement already satisfied: requests-file>=1.4 in /opt/anaconda3/lib/python3.12/site-packages (from tldextract->juriscraper) (1.5.1)\n",
      "Requirement already satisfied: filelock>=3.0.8 in /opt/anaconda3/lib/python3.12/site-packages (from tldextract->juriscraper) (3.13.1)\n",
      "Collecting attrs>=23.2.0 (from trio~=0.17->selenium>=4.9.1->juriscraper)\n",
      "  Using cached attrs-24.3.0-py3-none-any.whl.metadata (11 kB)\n",
      "Requirement already satisfied: sortedcontainers in /opt/anaconda3/lib/python3.12/site-packages (from trio~=0.17->selenium>=4.9.1->juriscraper) (2.4.0)\n",
      "Collecting outcome (from trio~=0.17->selenium>=4.9.1->juriscraper)\n",
      "  Using cached outcome-1.3.0.post0-py2.py3-none-any.whl.metadata (2.6 kB)\n",
      "Requirement already satisfied: sniffio>=1.3.0 in /opt/anaconda3/lib/python3.12/site-packages (from trio~=0.17->selenium>=4.9.1->juriscraper) (1.3.0)\n",
      "Collecting wsproto>=0.14 (from trio-websocket~=0.9->selenium>=4.9.1->juriscraper)\n",
      "  Using cached wsproto-1.2.0-py3-none-any.whl.metadata (5.6 kB)\n",
      "Requirement already satisfied: pysocks!=1.5.7,<2.0,>=1.5.6 in /opt/anaconda3/lib/python3.12/site-packages (from urllib3[socks]<3,>=1.26->selenium>=4.9.1->juriscraper) (1.7.1)\n",
      "Requirement already satisfied: h11<1,>=0.9.0 in /opt/anaconda3/lib/python3.12/site-packages (from wsproto>=0.14->trio-websocket~=0.9->selenium>=4.9.1->juriscraper) (0.14.0)\n",
      "Downloading charset_normalizer-3.4.1-cp312-cp312-macosx_10_13_universal2.whl (196 kB)\n",
      "\u001b[2K   \u001b[90m━━━━━━━━━━━━━━━━━━━━━━━━━━━━━━━━━━━━━━━━\u001b[0m \u001b[32m196.1/196.1 kB\u001b[0m \u001b[31m4.7 MB/s\u001b[0m eta \u001b[36m0:00:00\u001b[0m00:01\u001b[0m\n",
      "\u001b[?25hUsing cached dateparser-1.2.0-py2.py3-none-any.whl (294 kB)\n",
      "Using cached feedparser-6.0.11-py3-none-any.whl (81 kB)\n",
      "Using cached geonamescache-2.0.0-py3-none-any.whl (26.6 MB)\n",
      "Using cached selenium-4.27.1-py3-none-any.whl (9.7 MB)\n",
      "Using cached argparse-1.4.0-py2.py3-none-any.whl (23 kB)\n",
      "Using cached nh3-0.2.20-cp38-abi3-macosx_10_12_x86_64.macosx_11_0_arm64.macosx_10_12_universal2.whl (1.2 MB)\n",
      "Using cached trio-0.28.0-py3-none-any.whl (486 kB)\n",
      "Using cached trio_websocket-0.11.1-py3-none-any.whl (17 kB)\n",
      "Using cached tzlocal-5.2-py3-none-any.whl (17 kB)\n",
      "Using cached attrs-24.3.0-py3-none-any.whl (63 kB)\n",
      "Using cached wsproto-1.2.0-py3-none-any.whl (24 kB)\n",
      "Using cached outcome-1.3.0.post0-py2.py3-none-any.whl (10 kB)\n",
      "Building wheels for collected packages: juriscraper, sgmllib3k\n",
      "  Building wheel for juriscraper (pyproject.toml) ... \u001b[?25ldone\n",
      "\u001b[?25h  Created wheel for juriscraper: filename=juriscraper-2.6.51-py27-none-any.whl size=484476 sha256=1963863ce8c6fd817fa06de8fe5eeef96e549a1d029fd4295c318e14aa072a28\n",
      "  Stored in directory: /Users/rockramsri/Library/Caches/pip/wheels/f9/b7/50/c7d4c4a4a255eb272d8cd9a19b93a845b0471240843b07ea6b\n",
      "  Building wheel for sgmllib3k (setup.py) ... \u001b[?25ldone\n",
      "\u001b[?25h  Created wheel for sgmllib3k: filename=sgmllib3k-1.0.0-py3-none-any.whl size=6049 sha256=f29e64e67f45b3658117dac5214622ad23d546c128f269245a8569094cb762d3\n",
      "  Stored in directory: /Users/rockramsri/Library/Caches/pip/wheels/03/f5/1a/23761066dac1d0e8e683e5fdb27e12de53209d05a4a37e6246\n",
      "Successfully built juriscraper sgmllib3k\n",
      "Installing collected packages: sgmllib3k, geonamescache, argparse, wsproto, tzlocal, nh3, feedparser, charset-normalizer, attrs, outcome, dateparser, trio, trio-websocket, selenium, juriscraper\n",
      "  Attempting uninstall: charset-normalizer\n",
      "    Found existing installation: charset-normalizer 2.0.4\n",
      "    Uninstalling charset-normalizer-2.0.4:\n",
      "      Successfully uninstalled charset-normalizer-2.0.4\n",
      "  Attempting uninstall: attrs\n",
      "    Found existing installation: attrs 23.1.0\n",
      "    Uninstalling attrs-23.1.0:\n",
      "      Successfully uninstalled attrs-23.1.0\n",
      "Successfully installed argparse-1.4.0 attrs-24.3.0 charset-normalizer-3.4.1 dateparser-1.2.0 feedparser-6.0.11 geonamescache-2.0.0 juriscraper-2.6.51 nh3-0.2.20 outcome-1.3.0.post0 selenium-4.27.1 sgmllib3k-1.0.0 trio-0.28.0 trio-websocket-0.11.1 tzlocal-5.2 wsproto-1.2.0\n",
      "Note: you may need to restart the kernel to use updated packages.\n"
     ]
    }
   ],
   "source": [
    "pip install juriscraper"
   ]
  },
  {
   "cell_type": "code",
   "execution_count": 4,
   "metadata": {},
   "outputs": [
    {
     "name": "stderr",
     "output_type": "stream",
     "text": [
      "2025-01-19 02:45:57,041 - INFO: Now downloading case page at: https://www.ca1.uscourts.gov/opn/aci\n",
      "2025-01-19 02:45:57,341 - INFO: juriscraper.opinions.united_states.federal_appellate.ca1: Successfully found 20 items.\n"
     ]
    }
   ],
   "source": [
    "from juriscraper.opinions.united_states.federal_appellate import ca1\n",
    "\n",
    "def get_company_lawsuits(company_name):\n",
    "    \"\"\"\n",
    "    Function to scrape lawsuits or related details for a given company using Juriscraper.\n",
    "    \n",
    "    Args:\n",
    "        company_name (str): The name of the company to search for.\n",
    "\n",
    "    Returns:\n",
    "        list: A list of lawsuits or related details.\n",
    "    \"\"\"\n",
    "    try:\n",
    "        # Create a site object for a specific court (e.g., Federal Appellate Court 1)\n",
    "        site = ca1.Site()\n",
    "        \n",
    "        # Populate the site object with data\n",
    "        site.parse()\n",
    "        \n",
    "        # Filter results based on the company name\n",
    "        lawsuits = []\n",
    "        for opinion in site:\n",
    "            if company_name.lower() in str(opinion).lower():\n",
    "                lawsuit_details = {\n",
    "                    'case_name': opinion.case_name,\n",
    "                    'date_filed': opinion.date_filed,\n",
    "                    'docket_number': opinion.docket,\n",
    "                    'neutral_citation': opinion.neutral_citation,\n",
    "                    'summary': opinion.summary,\n",
    "                    'url': opinion.url if hasattr(opinion, 'url') else None\n",
    "                }\n",
    "                lawsuits.append(lawsuit_details)\n",
    "        \n",
    "        return lawsuits\n",
    "    except Exception as e:\n",
    "        return {\"error\": str(e)}\n",
    "\n",
    "# Example usage\n",
    "company_lawsuits = get_company_lawsuits(\"Blattner Energy LLC\")\n"
   ]
  },
  {
   "cell_type": "code",
   "execution_count": 5,
   "metadata": {},
   "outputs": [
    {
     "data": {
      "text/plain": [
       "[]"
      ]
     },
     "execution_count": 5,
     "metadata": {},
     "output_type": "execute_result"
    }
   ],
   "source": [
    "company_lawsuits\n"
   ]
  },
  {
   "cell_type": "code",
   "execution_count": 7,
   "metadata": {},
   "outputs": [
    {
     "name": "stderr",
     "output_type": "stream",
     "text": [
      "2025-01-19 02:47:07,950 - INFO: Now downloading case page at: https://www.ca1.uscourts.gov/opn/aci\n",
      "2025-01-19 02:47:08,509 - INFO: juriscraper.opinions.united_states.federal_appellate.ca1: Successfully found 20 items.\n"
     ]
    },
    {
     "data": {
      "text/plain": [
       "<juriscraper.opinions.united_states.federal_appellate.ca1.Site at 0x10d412ed0>"
      ]
     },
     "execution_count": 7,
     "metadata": {},
     "output_type": "execute_result"
    }
   ],
   "source": [
    "site = ca1.Site()\n",
    "\n",
    "# Populate the site object with data\n",
    "site.parse()"
   ]
  },
  {
   "cell_type": "code",
   "execution_count": 8,
   "metadata": {},
   "outputs": [
    {
     "data": {
      "text/plain": [
       "<juriscraper.opinions.united_states.federal_appellate.ca1.Site at 0x10d412ed0>"
      ]
     },
     "execution_count": 8,
     "metadata": {},
     "output_type": "execute_result"
    }
   ],
   "source": [
    "site"
   ]
  },
  {
   "cell_type": "code",
   "execution_count": 14,
   "metadata": {},
   "outputs": [
    {
     "name": "stderr",
     "output_type": "stream",
     "text": [
      "2025-01-19 02:58:18,816 - INFO: Now downloading case page at: https://www.ca1.uscourts.gov/opn/aci\n",
      "2025-01-19 02:58:19,289 - INFO: juriscraper.opinions.united_states.federal_appellate.ca1: Successfully found 20 items.\n"
     ]
    },
    {
     "name": "stdout",
     "output_type": "stream",
     "text": [
      "20\n"
     ]
    }
   ],
   "source": [
    "from juriscraper.opinions.united_states.federal_appellate import ca1\n",
    "\n",
    "# Create a site object\n",
    "site = ca1.Site()\n",
    "\n",
    "# Populate it with data, downloading the page if necessary\n",
    "site.parse()\n",
    "\n",
    "# Print out the object\n",
    "print(len(site))\n",
    "\n",
    "# Print it out as JSON\n",
    "#print(site.to_json())\n",
    "\n",
    "lawsuits = []\n",
    "for opinion in site:\n",
    "    if \"Blattner Energy LLC\".lower() in str(opinion).lower():\n",
    "        lawsuit_details = {\n",
    "            'case_name': opinion.case_name,\n",
    "            'date_filed': opinion.date_filed,\n",
    "            'docket_number': opinion.docket,\n",
    "            'neutral_citation': opinion.neutral_citation,\n",
    "            'summary': opinion.summary,\n",
    "            'url': opinion.url if hasattr(opinion, 'url') else None\n",
    "        }\n",
    "        lawsuits.append(lawsuit_details)"
   ]
  },
  {
   "cell_type": "code",
   "execution_count": 13,
   "metadata": {},
   "outputs": [
    {
     "data": {
      "text/plain": [
       "[]"
      ]
     },
     "execution_count": 13,
     "metadata": {},
     "output_type": "execute_result"
    }
   ],
   "source": [
    "lawsuits"
   ]
  },
  {
   "cell_type": "code",
   "execution_count": 15,
   "metadata": {},
   "outputs": [
    {
     "name": "stderr",
     "output_type": "stream",
     "text": [
      "2025-01-19 03:02:31,391 - INFO: Now downloading case page at: https://www.ca1.uscourts.gov/opn/aci\n",
      "2025-01-19 03:02:31,856 - INFO: juriscraper.opinions.united_states.federal_appellate.ca1: Successfully found 20 items.\n"
     ]
    },
    {
     "ename": "AttributeError",
     "evalue": "module 'juriscraper.opinions.united_states.federal_appellate' has no attribute 'ca2_p'",
     "output_type": "error",
     "traceback": [
      "\u001b[0;31m---------------------------------------------------------------------------\u001b[0m",
      "\u001b[0;31mAttributeError\u001b[0m                            Traceback (most recent call last)",
      "Cell \u001b[0;32mIn[15], line 8\u001b[0m\n\u001b[1;32m      6\u001b[0m \u001b[38;5;28;01mfor\u001b[39;00m module \u001b[38;5;129;01min\u001b[39;00m court_modules:\n\u001b[1;32m      7\u001b[0m     \u001b[38;5;28;01mfor\u001b[39;00m court \u001b[38;5;129;01min\u001b[39;00m module\u001b[38;5;241m.\u001b[39m__all__:\n\u001b[0;32m----> 8\u001b[0m         site \u001b[38;5;241m=\u001b[39m \u001b[38;5;28mgetattr\u001b[39m(module, court)\u001b[38;5;241m.\u001b[39mSite()\n\u001b[1;32m      9\u001b[0m         site\u001b[38;5;241m.\u001b[39mparse()\n\u001b[1;32m     10\u001b[0m         \u001b[38;5;28;01mfor\u001b[39;00m opinion \u001b[38;5;129;01min\u001b[39;00m site:\n\u001b[1;32m     11\u001b[0m             \u001b[38;5;66;03m# Process and store the opinion data\u001b[39;00m\n",
      "\u001b[0;31mAttributeError\u001b[0m: module 'juriscraper.opinions.united_states.federal_appellate' has no attribute 'ca2_p'"
     ]
    }
   ],
   "source": [
    "from juriscraper.opinions.united_states import federal_appellate, federal_district, federal_special\n",
    "\n",
    "court_modules = [federal_appellate, federal_district, federal_special]\n",
    "\n",
    "lawsuits = []\n",
    "for module in court_modules:\n",
    "    for court in module.__all__:\n",
    "        try:\n",
    "            site = getattr(module, court).Site()\n",
    "            site.parse()\n",
    "            for opinion in site:\n",
    "                # Process and store the opinion data\n",
    "                if \"Blattner Energy LLC\".lower() in str(opinion).lower():\n",
    "                    lawsuit_details = {\n",
    "                        'case_name': opinion.case_name,\n",
    "                        'date_filed': opinion.date_filed,\n",
    "                        'docket_number': opinion.docket,\n",
    "                        'neutral_citation': opinion.neutral_citation,\n",
    "                        'summary': opinion.summary,\n",
    "                        'url': opinion.url if hasattr(opinion, 'url') else None\n",
    "                    }\n",
    "                    lawsuits.append(lawsuit_details)\n",
    "        except Exception as e:\n",
    "            pass\n"
   ]
  }
 ],
 "metadata": {
  "kernelspec": {
   "display_name": "base",
   "language": "python",
   "name": "python3"
  },
  "language_info": {
   "codemirror_mode": {
    "name": "ipython",
    "version": 3
   },
   "file_extension": ".py",
   "mimetype": "text/x-python",
   "name": "python",
   "nbconvert_exporter": "python",
   "pygments_lexer": "ipython3",
   "version": "3.12.4"
  }
 },
 "nbformat": 4,
 "nbformat_minor": 2
}
